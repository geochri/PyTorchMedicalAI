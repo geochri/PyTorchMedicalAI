{
  "nbformat": 4,
  "nbformat_minor": 0,
  "metadata": {
    "colab": {
      "name": "vgg-1408-feature-extraction.ipynb",
      "version": "0.3.2",
      "provenance": [],
      "include_colab_link": true
    },
    "kernelspec": {
      "display_name": "Python 3",
      "language": "python",
      "name": "python3"
    }
  },
  "cells": [
    {
      "cell_type": "markdown",
      "metadata": {
        "id": "view-in-github",
        "colab_type": "text"
      },
      "source": [
        "<a href=\"https://colab.research.google.com/github/deeponcology/PyTorchMedicalAI/blob/master/shlomo_lab_004_vgg_1408_feature_extraction.ipynb\" target=\"_parent\"><img src=\"https://colab.research.google.com/assets/colab-badge.svg\" alt=\"Open In Colab\"/></a>"
      ]
    },
    {
      "metadata": {
        "id": "nLzdGaYe7Zzh",
        "colab_type": "text"
      },
      "cell_type": "markdown",
      "source": [
        "# Fixed Feature Extraction Using VGG\n",
        "\n",
        "### DB:\n",
        "https://www.kaggle.com/iarunava/cell-images-for-detecting-malaria/downloads/cell-images-for-detecting-malaria.zip/1\n",
        "\n",
        "### Paper:\n",
        "https://arxiv.org/abs/1802.00752\n",
        "\n",
        "\n",
        "### Sample notebook:\n",
        "https://www.kaggle.com/ingbiodanielh/malaria-detection-with-fastai-v1\n",
        "\n",
        "## Steps to solve the problem\n",
        "\n",
        "- Extract bottleneck VGG features using a pre-trained model (VGG19)\n",
        "- Construct several classifiers\n",
        "    - Support Vector Machine\n",
        "    - XGBoost\n",
        "    - Simple Multi-Layered Perceptron\n",
        "    - LightGBM \n",
        "    - Any CNN\n",
        "- Predict labels\n",
        "\n",
        "## Your task:\n",
        "- look for \"*YOUR CODE HERE*\" and provide a solution"
      ]
    },
    {
      "metadata": {
        "id": "jkDcRsxC7Zzk",
        "colab_type": "code",
        "colab": {},
        "outputId": "29e0808b-4bb4-4eed-9f61-0dcb572a2620"
      },
      "cell_type": "code",
      "source": [
        "%reset -f\n",
        "import os\n",
        "import zipfile\n",
        "import hashlib\n",
        "from six.moves.urllib.error import URLError\n",
        "from six.moves.urllib.request import urlretrieve\n",
        "import argparse\n",
        "from tqdm import tqdm\n",
        "from keras.applications.resnet50 import ResNet50, preprocess_input as preprocess_resnet, decode_predictions\n",
        "from keras.applications.inception_v3 import InceptionV3, preprocess_input as preprocess_inception\n",
        "from keras.applications.vgg16 import VGG16, preprocess_input as preprocess_vgg\n",
        "from keras.preprocessing import image\n",
        "from keras import backend as K\n",
        "from keras.models import Model\n",
        "from keras.layers import GlobalAveragePooling2D, Concatenate\n",
        "import numpy as np\n",
        "\n",
        "import numpy as np\n",
        "import pandas as pd\n",
        "import time, os, glob\n",
        "import cv2\n",
        "\n",
        "from keras.applications.vgg16 import VGG16\n",
        "from keras.optimizers import SGD, Adam\n",
        "from keras.layers import GlobalAveragePooling2D\n",
        "from keras.models import Model\n",
        "from keras.applications.imagenet_utils import preprocess_input\n",
        "\n",
        "from os.path import isfile, join, abspath, exists, isdir, expanduser\n",
        "from os import listdir, makedirs, getcwd, remove"
      ],
      "execution_count": 0,
      "outputs": [
        {
          "output_type": "stream",
          "text": [
            "Using TensorFlow backend.\n"
          ],
          "name": "stderr"
        }
      ]
    },
    {
      "metadata": {
        "id": "JdNg5RdR7Zzv",
        "colab_type": "text"
      },
      "cell_type": "markdown",
      "source": [
        "# Data set"
      ]
    },
    {
      "metadata": {
        "id": "QzqC0c1X7Zzx",
        "colab_type": "code",
        "colab": {},
        "outputId": "c17563af-47e7-4a19-bc30-bb1b6e3da150"
      },
      "cell_type": "code",
      "source": [
        "import os\n",
        "from glob import glob\n",
        "from matplotlib.pyplot import imshow\n",
        "import numpy as np\n",
        "from PIL import Image, ImageFile\n",
        "\n",
        "ImageFile.LOAD_TRUNCATED_IMAGES = True\n",
        "\n",
        "db=\"cell_images\"\n",
        "data_dir=\"/home/shlomo/\" + db + \"/\"\n",
        "\n",
        "imageList = glob(data_dir + '/**/*.png', recursive=True)\n",
        "print ( \"Number of images: {}\". format (len (imageList)))\n",
        "# for img in imageList[0:5]:\n",
        "#     print(img)\n",
        "    \n",
        "%matplotlib inline\n",
        "pil_im = Image.open(imageList[0], 'r')\n",
        "imshow(np.asarray(pil_im))"
      ],
      "execution_count": 0,
      "outputs": [
        {
          "output_type": "stream",
          "text": [
            "Number of images: 27558\n"
          ],
          "name": "stdout"
        },
        {
          "output_type": "execute_result",
          "data": {
            "text/plain": [
              "<matplotlib.image.AxesImage at 0x7fee7615e518>"
            ]
          },
          "metadata": {
            "tags": []
          },
          "execution_count": 6
        },
        {
          "output_type": "display_data",
          "data": {
            "image/png": "[encoded data removed]",
            "text/plain": [
              "<Figure size 432x288 with 1 Axes>"
            ]
          },
          "metadata": {
            "tags": [],
            "needs_background": "light"
          }
        }
      ]
    },
    {
      "metadata": {
        "id": "wzDDHZA77Zz3",
        "colab_type": "text"
      },
      "cell_type": "markdown",
      "source": [
        "# Define pre trained networks"
      ]
    },
    {
      "metadata": {
        "id": "MGxhBxBJ7Zz4",
        "colab_type": "code",
        "colab": {}
      },
      "cell_type": "code",
      "source": [
        "from tqdm import tqdm # Enable progress bar\n",
        "from keras.applications.resnet50 import ResNet50, preprocess_input, decode_predictions # Load pre-trained model\n",
        "from keras.models import Model\n",
        "from keras.preprocessing import image\n",
        "from keras.layers import Flatten, Input\n",
        "\n",
        "    \n",
        "class VGGFV:\n",
        "    __name__ = \"VGGFV\"\n",
        "\n",
        "    def __init__(self, input_size=224,num_class=1,batch_size=32):\n",
        "        base_model = VGG16(weights='imagenet', include_top=False,\n",
        "                           input_shape=[input_size,input_size,3], classes=num_class)\n",
        "                                        \n",
        "        x2 = GlobalAveragePooling2D()(base_model.get_layer(\"block2_conv2\").output)  # 128\n",
        "        x3 = GlobalAveragePooling2D()(base_model.get_layer(\"block3_conv3\").output)  # 256\n",
        "        x4 = GlobalAveragePooling2D()(base_model.get_layer(\"block4_conv3\").output)  # 512\n",
        "        x5 = GlobalAveragePooling2D()(base_model.get_layer(\"block5_conv3\").output)  # 512        \n",
        "        x = Concatenate()([x2,x3,x4,x5])        \n",
        "\n",
        "        model = Model(inputs=base_model.input, outputs=x)        \n",
        "        optimizer = Adam(lr=0.0001)\n",
        "        model.compile(loss='categorical_crossentropy',\n",
        "                      optimizer=optimizer,\n",
        "                      metrics=['accuracy'])\n",
        "        \n",
        "        self.model=model    \n",
        "        self.batch_size = batch_size\n",
        "        self.data_format = K.image_data_format()\n",
        "    \n",
        "    def predict(self, x):\n",
        "        if self.data_format == \"channels_first\":\n",
        "            x = x.transpose(0, 3, 1, 2)\n",
        "        x = preprocess_vgg(x.astype(K.floatx()))\n",
        "        return self.model.predict(x, batch_size=self.batch_size).squeeze()\n",
        "    \n",
        "    \n",
        "def find_classes(fullDir):    \n",
        "    print (\"Full dir:{}\".format(fullDir))\n",
        "    classes = [d for d in os.listdir(fullDir) if os.path.isdir(os.path.join(fullDir, d))]\n",
        "    classes.sort()\n",
        "    class_to_idx = {classes[i]: i for i in range(len(classes))}\n",
        "    num_to_class = dict(zip(range(len(classes)), classes))\n",
        "\n",
        "    print('Sorted Classes: {}'.format(classes))\n",
        "    print('class_to_idx: {}'.format(class_to_idx))\n",
        "    print('num_to_class: {}'.format(num_to_class))\n",
        "\n",
        "    train = []\n",
        "    for index, label in enumerate(classes):\n",
        "        path = fullDir + label + '/'\n",
        "        for file in listdir(path):\n",
        "            if file.endswith('tif') or file.endswith('jpg') or file.endswith('png'):\n",
        "                train.append(['{}/{}/{}'.format(fullDir, label, file), label, index])\n",
        "\n",
        "    df = pd.DataFrame(train, columns=['file', 'category', 'category_id', ])\n",
        "\n",
        "    return classes, class_to_idx, num_to_class, df\n",
        "    "
      ],
      "execution_count": 0,
      "outputs": []
    },
    {
      "metadata": {
        "id": "D2KGSrJo7Zz8",
        "colab_type": "text"
      },
      "cell_type": "markdown",
      "source": [
        "# Test VGG feature extraction for a single image"
      ]
    },
    {
      "metadata": {
        "id": "Kqr8CNWE7Zz-",
        "colab_type": "code",
        "colab": {},
        "outputId": "8e011a3f-8fc4-49e3-d7af-bcbd25669910"
      },
      "cell_type": "code",
      "source": [
        "# img_path = \"plays.jpg\"\n",
        "\n",
        "input_size=224\n",
        "\n",
        "img = image.load_img(imageList[0], target_size=(input_size, input_size))\n",
        "x = image.img_to_array(img)\n",
        "x = np.expand_dims(x, axis=0)\n",
        "x = preprocess_vgg(x)\n",
        "print (x.shape)\n",
        "\n",
        "model = VGGFV (input_size=input_size,num_class=1)\n",
        "vgg_feature_vector = model.predict(x)\n",
        "print (vgg_feature_vector.shape)\n",
        "vgg_feature_vector"
      ],
      "execution_count": 0,
      "outputs": [
        {
          "output_type": "stream",
          "text": [
            "(1, 224, 224, 3)\n",
            "(1408,)\n"
          ],
          "name": "stdout"
        },
        {
          "output_type": "execute_result",
          "data": {
            "text/plain": [
              "array([4.6773944e+02, 1.6744505e+02, 8.1394203e+01, ..., 5.8332440e-02,\n",
              "       1.1525798e+01, 0.0000000e+00], dtype=float32)"
            ]
          },
          "metadata": {
            "tags": []
          },
          "execution_count": 8
        }
      ]
    },
    {
      "metadata": {
        "id": "5_XzyZKt7Z0C",
        "colab_type": "text"
      },
      "cell_type": "markdown",
      "source": [
        "# Generate features for a full dataset"
      ]
    },
    {
      "metadata": {
        "id": "zWRqV9BM7Z0D",
        "colab_type": "code",
        "colab": {}
      },
      "cell_type": "code",
      "source": [
        "columns=['file', 'category_id', 'fv']\n",
        "X_df_train=pd.DataFrame(data=np.zeros((0,len(columns))), columns=columns)\n",
        "classes, class_to_idx, num_to_class, df= find_classes(data_dir)\n",
        "print (class_to_idx)\n",
        "\n",
        "# Empty arrays for storing extracted features\n",
        "X_train = []; X_test = []\n",
        "\n",
        "# Extract bottleneck features of photos for traninig    \n",
        "for index, row in tqdm(df.iterrows()):\n",
        "    img = image.load_img(row['file'], target_size=(input_size, input_size))\n",
        "    x = image.img_to_array(img)\n",
        "    x = np.expand_dims(x, axis=0)    \n",
        "    vgg_feature_vector = model.predict(x)\n",
        "    X_train.append(vgg_feature_vector)\n",
        "#     print (vgg_feature_vector)\n",
        "    \n",
        "    X_df_train = X_df_train.append({ 'file':row['file'], \n",
        "                              'category_id':row['category'],                               \n",
        "                              'fv':vgg_feature_vector },\n",
        "                                 ignore_index=True)\n",
        "    \n",
        "\n",
        "# X_df_train.category_id.astype(int)    \n",
        "print(X_df_train.info())    "
      ],
      "execution_count": 0,
      "outputs": []
    },
    {
      "metadata": {
        "id": "ZNe125407Z0G",
        "colab_type": "code",
        "colab": {}
      },
      "cell_type": "code",
      "source": [
        "X_df_train.to_csv(str(model.__class__.__name__) + '_features_df.csv', index = False)\n",
        "X_df_train.head(5)"
      ],
      "execution_count": 0,
      "outputs": []
    },
    {
      "metadata": {
        "id": "9Vszxn7g7Z0J",
        "colab_type": "code",
        "colab": {},
        "outputId": "ae5cc4d9-d1b0-4510-c60a-9efda3e6bf70"
      },
      "cell_type": "code",
      "source": [
        "import pandas \n",
        "X_df_train_SINGLE=X_df_train.copy(deep=True)\n",
        "X_df_train_SINGLE.drop('file', axis=1, inplace=True)\n",
        "answers_1_SINGLE = list (X_df_train_SINGLE['category_id'].values)\n",
        "# answers_1_SINGLE= map(int, answers_1_SINGLE)\n",
        "X_df_train_SINGLE = X_df_train_SINGLE.drop('category_id', axis=1)\n",
        "X_df_train_SINGLE=X_df_train_SINGLE.apply(lambda x: pandas.to_numeric(x, errors='ignore'))\n",
        "\n",
        "X_df_train_SINGLE.head(3)"
      ],
      "execution_count": 0,
      "outputs": [
        {
          "output_type": "execute_result",
          "data": {
            "text/html": [
              "<div>\n",
              "<style scoped>\n",
              "    .dataframe tbody tr th:only-of-type {\n",
              "        vertical-align: middle;\n",
              "    }\n",
              "\n",
              "    .dataframe tbody tr th {\n",
              "        vertical-align: top;\n",
              "    }\n",
              "\n",
              "    .dataframe thead th {\n",
              "        text-align: right;\n",
              "    }\n",
              "</style>\n",
              "<table border=\"1\" class=\"dataframe\">\n",
              "  <thead>\n",
              "    <tr style=\"text-align: right;\">\n",
              "      <th></th>\n",
              "      <th>fv</th>\n",
              "    </tr>\n",
              "  </thead>\n",
              "  <tbody>\n",
              "    <tr>\n",
              "      <th>0</th>\n",
              "      <td>[366.5396, 149.68477, 61.79901, 207.61394, 273...</td>\n",
              "    </tr>\n",
              "    <tr>\n",
              "      <th>1</th>\n",
              "      <td>[154.18286, 123.3337, 48.969177, 187.62091, 17...</td>\n",
              "    </tr>\n",
              "    <tr>\n",
              "      <th>2</th>\n",
              "      <td>[386.05026, 117.52995, 59.7484, 203.23325, 301...</td>\n",
              "    </tr>\n",
              "  </tbody>\n",
              "</table>\n",
              "</div>"
            ],
            "text/plain": [
              "                                                  fv\n",
              "0  [366.5396, 149.68477, 61.79901, 207.61394, 273...\n",
              "1  [154.18286, 123.3337, 48.969177, 187.62091, 17...\n",
              "2  [386.05026, 117.52995, 59.7484, 203.23325, 301..."
            ]
          },
          "metadata": {
            "tags": []
          },
          "execution_count": 11
        }
      ]
    },
    {
      "metadata": {
        "id": "iN8tEI4Z7Z0Q",
        "colab_type": "code",
        "colab": {},
        "outputId": "e553ee81-c191-46ac-a3ea-505630d871b1"
      },
      "cell_type": "code",
      "source": [
        "# Function to make labels in the data frame into a list (i.e. 0 8 => [0, 8])\n",
        "def labels_to_list(labels): *YOUR CODE HERE* \n",
        "\n",
        "# Process train & test set into an array format\n",
        "X_train = *YOUR CODE HERE* \n",
        "Y_train = *YOUR CODE HERE* \n",
        "\n",
        "# Check shape of array-format train & test set\n",
        "print(\"X_train: \", X_train.shape)\n",
        "print(\"Y_train: \", Y_train.shape)"
      ],
      "execution_count": 0,
      "outputs": [
        {
          "output_type": "stream",
          "text": [
            "X_train:  (27558, 1408)\n",
            "Y_train:  (27558, 1)\n"
          ],
          "name": "stdout"
        }
      ]
    },
    {
      "metadata": {
        "id": "NHiZof5z7Z0T",
        "colab_type": "code",
        "colab": {},
        "outputId": "0c61d7b2-3810-4472-c00c-52225d614199"
      },
      "cell_type": "code",
      "source": [
        "# Load packages for splitting train & validation set, XGBoost classifier, 1-of-K encoder\n",
        "\n",
        "*YOUR CODE HERE* \n",
        "\n",
        "classifier.fit(X_train_, Y_train_)\n",
        "# Show spent time\n",
        "print(\"Time passed: \", \"{0:.3f}\".format(time.time() - t), \"sec\")\n"
      ],
      "execution_count": 0,
      "outputs": [
        {
          "output_type": "stream",
          "text": [
            "Time passed:  1366.752 sec\n"
          ],
          "name": "stdout"
        }
      ]
    },
    {
      "metadata": {
        "id": "fSHEOgcR7Z0X",
        "colab_type": "code",
        "colab": {},
        "outputId": "2b473912-3640-4909-9a2f-2b81a304efc1"
      },
      "cell_type": "code",
      "source": [
        "from sklearn.metrics import f1_score # For measuring F1 score metrics\n",
        "import numpy as np\n",
        "import pandas as pd\n",
        "import matplotlib.pyplot as plt\n",
        "import seaborn as sns\n",
        "from sklearn.metrics import confusion_matrix\n",
        "from sklearn.metrics import confusion_matrix\n",
        "\n",
        "import pickle\n",
        "from sklearn.externals import joblib\n",
        "\n",
        "# Predict labels using the trained model\n",
        "# Y_predict = classifier.predict_proba(X_test_) # probs\n",
        "# Predict labels using the trained model\n",
        "Y_predict = classifier.predict(X_test_) # classes \n",
        "\n",
        "# Show some predicted values\n",
        "print(\"Samples of predicted labels (in 1-of-K coding scheme):\\n\", Y_predict[1:8])\n",
        "print(\"\\nSamples of corresponding predicted labels:\\n\", one_of_K_encoder.inverse_transform(Y_predict[1:8]))\n",
        "\n",
        "# Show global F1 score & on-label F1 score\n",
        "print(\"Overall F1 score: \", f1_score(Y_test_, Y_predict, average='micro')) \n",
        "print(\"F1 score of each label : \", f1_score(Y_test_, Y_predict, average=None))\n",
        "\n",
        "# save model to file\n",
        "joblib.dump(classifier, (db + '_' + str(model.__class__.__name__) +  '_' + \n",
        "                         str (f1_score(Y_test_, Y_predict, average='micro')) + \".dat\"))"
      ],
      "execution_count": 0,
      "outputs": [
        {
          "output_type": "stream",
          "text": [
            "Samples of predicted labels (in 1-of-K coding scheme):\n",
            " [[1 0]\n",
            " [0 1]\n",
            " [1 0]\n",
            " [0 1]\n",
            " [0 1]\n",
            " [1 0]\n",
            " [0 1]]\n",
            "\n",
            "Samples of corresponding predicted labels:\n",
            " [('Parasitized',), ('Uninfected',), ('Parasitized',), ('Uninfected',), ('Uninfected',), ('Parasitized',), ('Uninfected',)]\n",
            "Overall F1 score:  0.9603700009068651\n",
            "F1 score of each label :  [0.96026012 0.96048079]\n"
          ],
          "name": "stdout"
        },
        {
          "output_type": "execute_result",
          "data": {
            "text/plain": [
              "['cell_images_VGGFV_0.9603700009068651.dat']"
            ]
          },
          "metadata": {
            "tags": []
          },
          "execution_count": 14
        }
      ]
    },
    {
      "metadata": {
        "id": "yBv99Swg7Z0b",
        "colab_type": "code",
        "colab": {},
        "outputId": "b139f699-77f1-4d99-b9b6-3caff30dfcea"
      },
      "cell_type": "code",
      "source": [
        "print (one_of_K_encoder.classes_)"
      ],
      "execution_count": 0,
      "outputs": [
        {
          "output_type": "stream",
          "text": [
            "['Parasitized' 'Uninfected']\n"
          ],
          "name": "stdout"
        }
      ]
    },
    {
      "metadata": {
        "id": "srpxV7Nu7Z0g",
        "colab_type": "text"
      },
      "cell_type": "markdown",
      "source": [
        "Note that the several instances returned all zeroes, indicating that they matched none of the three labels fit"
      ]
    },
    {
      "metadata": {
        "id": "uzKq9p7a7Z0g",
        "colab_type": "text"
      },
      "cell_type": "markdown",
      "source": [
        "### CM\n",
        "- input to confusion_matrix must be a list of predictions, not OHEs (one hot encodings)."
      ]
    },
    {
      "metadata": {
        "id": "_7PTVnXR7Z0i",
        "colab_type": "code",
        "colab": {}
      },
      "cell_type": "code",
      "source": [
        "import numpy as np\n",
        "import pandas as pd\n",
        "import matplotlib.pyplot as plt\n",
        "import seaborn as sns\n",
        "from sklearn.metrics import confusion_matrix\n",
        "from sklearn.metrics import confusion_matrix\n",
        "\n",
        "# labels = np.array([0, 1,2])\n",
        "labels= one_of_K_encoder.classes_\n",
        "\n",
        "def cm_analysis(y_true, y_pred, labels, ymap=None, figsize=(10,10)):\n",
        "    \"\"\"\n",
        "    Generate matrix plot of confusion matrix with pretty annotations.\n",
        "    The plot image is saved to disk.\n",
        "    args: \n",
        "      y_true:    true label of the data, with shape (nsamples,)\n",
        "      y_pred:    prediction of the data, with shape (nsamples,)\n",
        "      filename:  filename of figure file to save\n",
        "      labels:    string array, name the order of class labels in the confusion matrix.\n",
        "                 use `clf.classes_` if using scikit-learn models.\n",
        "                 with shape (nclass,).\n",
        "      ymap:      dict: any -> string, length == nclass.\n",
        "                 if not None, map the labels & ys to more understandable strings.\n",
        "                 Caution: original y_true, y_pred and labels must align.\n",
        "      figsize:   the size of the figure plotted.\n",
        "    \"\"\"\n",
        "    if ymap is not None:\n",
        "        y_pred = [ymap[yi] for yi in y_pred]\n",
        "        y_true = [ymap[yi] for yi in y_true]\n",
        "        labels = [ymap[yi] for yi in labels]\n",
        "    cm = confusion_matrix(y_true, y_pred, labels=None)\n",
        "    cm_sum = np.sum(cm, axis=1, keepdims=True)\n",
        "    cm_perc = cm / cm_sum.astype(float) * 100\n",
        "    annot = np.empty_like(cm).astype(str)\n",
        "    nrows, ncols = cm.shape\n",
        "    for i in range(nrows):\n",
        "        for j in range(ncols):\n",
        "            c = cm[i, j]\n",
        "            p = cm_perc[i, j]\n",
        "            if i == j:\n",
        "                s = cm_sum[i]\n",
        "                annot[i, j] = '%.1f%%\\n%d/%d' % (p, c, s)\n",
        "            elif c == 0:\n",
        "                annot[i, j] = ''\n",
        "            else:\n",
        "                annot[i, j] = '%.1f%%\\n%d' % (p, c)\n",
        "    cm = pd.DataFrame(cm, index=labels, columns=labels)\n",
        "    cm.index.name = 'Actual'\n",
        "    cm.columns.name = 'Predicted'\n",
        "    fig, ax = plt.subplots(figsize=figsize)\n",
        "    sns.heatmap(cm, annot=annot, fmt='', ax=ax)\n",
        "#     plt.savefig(filename)"
      ],
      "execution_count": 0,
      "outputs": []
    },
    {
      "metadata": {
        "id": "pYms8nHA7Z0m",
        "colab_type": "code",
        "colab": {},
        "outputId": "f875e6be-d2ed-4c39-e7d5-a34593151387"
      },
      "cell_type": "code",
      "source": [
        "cm_analysis(Y_test_.argmax(axis=1), Y_predict.argmax(axis=1),labels)"
      ],
      "execution_count": 0,
      "outputs": [
        {
          "output_type": "display_data",
          "data": {
            "image/png": "[encoded data removed]",
            "text/plain": [
              "<Figure size 720x720 with 2 Axes>"
            ]
          },
          "metadata": {
            "tags": [],
            "needs_background": "light"
          }
        }
      ]
    }
  ]
}